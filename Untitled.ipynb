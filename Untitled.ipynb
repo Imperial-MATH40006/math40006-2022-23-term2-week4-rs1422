{
 "cells": [
  {
   "cell_type": "code",
   "execution_count": 35,
   "id": "939258ce",
   "metadata": {},
   "outputs": [],
   "source": [
    "r=np.linspace(0,n,n+1)"
   ]
  },
  {
   "cell_type": "code",
   "execution_count": 37,
   "id": "a54ed8aa",
   "metadata": {},
   "outputs": [],
   "source": [
    "rfac = np.concatenate((np.array([1]),np.cumprod(r[1:len(r)])))\n",
    "nmrfac = rfac[::-1]"
   ]
  },
  {
   "cell_type": "code",
   "execution_count": 45,
   "id": "62b860b4",
   "metadata": {},
   "outputs": [
    {
     "name": "stdout",
     "output_type": "stream",
     "text": [
      "[1. 4. 6. 4. 1.]\n",
      "[0.2401 0.4116 0.2646 0.0756 0.0081]\n"
     ]
    }
   ],
   "source": [
    "from math import *\n",
    "bincoef = (factorial(n)/((rfac)*(nmrfac)))\n",
    "binprob = (bincoef)*(p**r)*(1-p)**(n-r)\n",
    "print(bincoef)\n",
    "print(binprob)"
   ]
  },
  {
   "cell_type": "code",
   "execution_count": 4,
   "id": "ddfde7d9",
   "metadata": {},
   "outputs": [
    {
     "name": "stdout",
     "output_type": "stream",
     "text": [
      "[4 3 0 7 2 1 3 0 2 0 2 2 3 3 1 4 2 2 2 3 5 1 2 3 5 2 3 3 5 4 3 6 5 3 3 3 6\n",
      " 3 4 2 2 1 1 3 3 1 1 3 3 3 2 4 4 0 1 4 3 5 3 5 3 6 1 4 2 2 4 3 4 4 3 3 1 1\n",
      " 0 5 2 6 3 3 2 1 1 0 2 3 4 5 3 5 3 3 1 5 3 4 2 1 6 3]\n"
     ]
    }
   ],
   "source": [
    "import numpy.random as nrnd\n",
    "data100 = nrnd.binomial(n, p, 100)\n",
    "print (data100)"
   ]
  },
  {
   "cell_type": "code",
   "execution_count": 3,
   "id": "2eb2ca71",
   "metadata": {},
   "outputs": [],
   "source": [
    "p=0.3\n",
    "n=10"
   ]
  },
  {
   "cell_type": "code",
   "execution_count": 5,
   "id": "34bc0b5a",
   "metadata": {},
   "outputs": [],
   "source": [
    "def ifs_step(matrices, vectors, coords):\n",
    "    index=rnd.randint(0,n-1)\n",
    "    mat=matrices[index,:,:]\n",
    "    vec=vectors[index,:]\n",
    "    return (dot(mat, coords)+vec)"
   ]
  },
  {
   "cell_type": "code",
   "execution_count": null,
   "id": "652a7226",
   "metadata": {},
   "outputs": [],
   "source": []
  }
 ],
 "metadata": {
  "kernelspec": {
   "display_name": "Python 3 (ipykernel)",
   "language": "python",
   "name": "python3"
  },
  "language_info": {
   "codemirror_mode": {
    "name": "ipython",
    "version": 3
   },
   "file_extension": ".py",
   "mimetype": "text/x-python",
   "name": "python",
   "nbconvert_exporter": "python",
   "pygments_lexer": "ipython3",
   "version": "3.9.13"
  }
 },
 "nbformat": 4,
 "nbformat_minor": 5
}
